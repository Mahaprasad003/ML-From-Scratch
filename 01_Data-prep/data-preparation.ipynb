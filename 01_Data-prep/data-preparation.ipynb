{
 "cells": [
  {
   "cell_type": "code",
   "execution_count": 1,
   "id": "91415c84",
   "metadata": {},
   "outputs": [],
   "source": [
    "from csv import reader"
   ]
  },
  {
   "cell_type": "code",
   "execution_count": 2,
   "id": "34bf1f53",
   "metadata": {},
   "outputs": [],
   "source": [
    "def load_csv(filename):\n",
    "    file = open(filename, \"r\")\n",
    "    lines = reader(file)\n",
    "    dataset = list(lines)\n",
    "    return dataset"
   ]
  },
  {
   "cell_type": "code",
   "execution_count": 3,
   "id": "4c59a354",
   "metadata": {},
   "outputs": [
    {
     "name": "stdout",
     "output_type": "stream",
     "text": [
      "Dataset called diabetes.csv loaded with 769 rows and 9 columns\n",
      "Dataset loaded with 769 rows and 9 columns\n"
     ]
    }
   ],
   "source": [
    "filename = 'diabetes.csv'\n",
    "diabetes = load_csv(filename)\n",
    "print(\"Dataset called {0} loaded with {1} rows and {2} columns\".format(filename, len(diabetes), len(diabetes[0])))\n",
    "print(f\"Dataset loaded with {len(diabetes)} rows and {len(diabetes[0])} columns\")"
   ]
  },
  {
   "cell_type": "markdown",
   "id": "92418bee",
   "metadata": {},
   "source": [
    "## Loading datasets by skipping empty rows"
   ]
  },
  {
   "cell_type": "code",
   "execution_count": 4,
   "id": "589cef77",
   "metadata": {},
   "outputs": [],
   "source": [
    "def load_csv_skip(filename):\n",
    "    dataset = list()\n",
    "    with open(filename, \"r\") as file:\n",
    "        csv_reader = reader(file)\n",
    "        for row in csv_reader:\n",
    "            if not row:\n",
    "                continue\n",
    "            dataset.append(row)\n",
    "        return dataset\n",
    "        "
   ]
  },
  {
   "cell_type": "code",
   "execution_count": 5,
   "id": "b0630054",
   "metadata": {},
   "outputs": [
    {
     "name": "stdout",
     "output_type": "stream",
     "text": [
      "Dataset called diabetes.csv loaded with 769 rows and 9 columns\n"
     ]
    }
   ],
   "source": [
    "diabetes_rows_skipped = load_csv_skip(filename)\n",
    "print(\"Dataset called {0} loaded with {1} rows and {2} columns\".format(filename, len(diabetes_rows_skipped), len(diabetes_rows_skipped[0])))"
   ]
  },
  {
   "cell_type": "markdown",
   "id": "a9be8390",
   "metadata": {},
   "source": [
    "## Converting strings to floats"
   ]
  },
  {
   "cell_type": "code",
   "execution_count": 9,
   "id": "feed4011",
   "metadata": {},
   "outputs": [],
   "source": [
    "def str_to_float(dataset):\n",
    "    for i in range(1, len(dataset)):\n",
    "        for j in range(len(dataset[0])):\n",
    "            dataset[i][j] = float(dataset[i][j])\n",
    "            "
   ]
  },
  {
   "cell_type": "code",
   "execution_count": 10,
   "id": "9d7b426d",
   "metadata": {},
   "outputs": [],
   "source": [
    "str_to_float(diabetes)"
   ]
  },
  {
   "cell_type": "markdown",
   "id": "0b0a94be-3276-4976-b6aa-a6df6675c056",
   "metadata": {},
   "source": [
    "## Normalizing data\n",
    "Here we use normalization to refer to rescaling an input variable to the range between 0 and 1."
   ]
  },
  {
   "cell_type": "markdown",
   "id": "80f7b39a-5a8d-443a-9eac-65ea36019596",
   "metadata": {},
   "source": [
    "## Finding minimum and maximum of each attribute"
   ]
  },
  {
   "cell_type": "code",
   "execution_count": 13,
   "id": "d192a182-0363-437d-a882-9f4746b687cd",
   "metadata": {},
   "outputs": [],
   "source": [
    "def dataset_minmax(dataset):\n",
    "    minmax = list()\n",
    "    for i in range(len(dataset[0])):\n",
    "        col_values = [row[i] for row in dataset]\n",
    "        min_value = min(col_values)\n",
    "        max_value = max(col_values)\n",
    "        minmax.append([min_value, max_value])\n",
    "    return minmax\n",
    "        "
   ]
  },
  {
   "cell_type": "code",
   "execution_count": 17,
   "id": "fcde4ca4-0060-42bb-bf1c-6a87dc5c07cf",
   "metadata": {},
   "outputs": [],
   "source": [
    "minmax = dataset_minmax(diabetes)"
   ]
  },
  {
   "cell_type": "code",
   "execution_count": 18,
   "id": "895626f8-cf7d-4c8c-9a30-24a3536f39ed",
   "metadata": {},
   "outputs": [
    {
     "data": {
      "text/plain": [
       "[[0.0, 17.0],\n",
       " [0.0, 199.0],\n",
       " [0.0, 122.0],\n",
       " [0.0, 99.0],\n",
       " [0.0, 846.0],\n",
       " [0.0, 67.1],\n",
       " [0.078, 2.42],\n",
       " [21.0, 81.0],\n",
       " [0.0, 1.0]]"
      ]
     },
     "execution_count": 18,
     "metadata": {},
     "output_type": "execute_result"
    }
   ],
   "source": [
    "minmax"
   ]
  },
  {
   "cell_type": "markdown",
   "id": "665e6c7d-883e-4ceb-9a36-b377a7db98cc",
   "metadata": {},
   "source": [
    "## To normalize data\n",
    "\n",
    "scaled value = (value - min)/ (max - min)"
   ]
  },
  {
   "cell_type": "code",
   "execution_count": 19,
   "id": "9f6bd0b6-31c8-4057-acc5-2012f077a6f6",
   "metadata": {},
   "outputs": [],
   "source": [
    "def normalize_dataset(dataset, minmax):\n",
    "    for row in dataset:\n",
    "        for i in range(len(row)):\n",
    "            row[i] = ((row[i] - minmax[i][0])) / (minmax[i][1] - minmax[i][0])"
   ]
  },
  {
   "cell_type": "code",
   "execution_count": 21,
   "id": "9e4caff8-3b48-4ee0-a65b-847a5a801dea",
   "metadata": {},
   "outputs": [],
   "source": [
    "normalize_dataset(diabetes, minmax)"
   ]
  },
  {
   "cell_type": "code",
   "execution_count": null,
   "id": "d779f568-7298-4fdc-aeb9-da867d77c7da",
   "metadata": {},
   "outputs": [],
   "source": []
  }
 ],
 "metadata": {
  "kernelspec": {
   "display_name": "Python 3 (ipykernel)",
   "language": "python",
   "name": "python3"
  },
  "language_info": {
   "codemirror_mode": {
    "name": "ipython",
    "version": 3
   },
   "file_extension": ".py",
   "mimetype": "text/x-python",
   "name": "python",
   "nbconvert_exporter": "python",
   "pygments_lexer": "ipython3",
   "version": "3.8.13"
  }
 },
 "nbformat": 4,
 "nbformat_minor": 5
}
