{
 "cells": [
  {
   "cell_type": "markdown",
   "id": "349c8d87-5bd8-4af5-8492-51e8ea64178b",
   "metadata": {},
   "source": [
    "# Classification accuracy\n"
   ]
  },
  {
   "cell_type": "code",
   "execution_count": 2,
   "id": "e69ea5e6-f9a3-4f46-8e81-617b9ce7bf47",
   "metadata": {},
   "outputs": [],
   "source": [
    "def accuracy_metric(actual, predicted):\n",
    "    correct_predictions = 0\n",
    "    for i in range(len(actual)):\n",
    "        if actual[i] == predicted[i]:\n",
    "            correct_predictions += 1\n",
    "    return correct_predictions / float(len(actual)) * 100.0"
   ]
  },
  {
   "cell_type": "code",
   "execution_count": 4,
   "id": "8489d294-e22c-4694-a96c-1a6afe0c6db1",
   "metadata": {},
   "outputs": [
    {
     "name": "stdout",
     "output_type": "stream",
     "text": [
      "Accuracy metric:  40.0\n"
     ]
    }
   ],
   "source": [
    "actual = [0,0,0,0,1,1,0,1,0,1]\n",
    "predicted = [1,0,0,1,0,1,0,0,1,0]\n",
    "\n",
    "print(\"Accuracy metric: \", accuracy_metric(actual, predicted))"
   ]
  },
  {
   "cell_type": "code",
   "execution_count": null,
   "id": "608b631f-dc61-48ef-876c-1c039f4aeca8",
   "metadata": {},
   "outputs": [],
   "source": []
  }
 ],
 "metadata": {
  "kernelspec": {
   "display_name": "Python 3 (ipykernel)",
   "language": "python",
   "name": "python3"
  },
  "language_info": {
   "codemirror_mode": {
    "name": "ipython",
    "version": 3
   },
   "file_extension": ".py",
   "mimetype": "text/x-python",
   "name": "python",
   "nbconvert_exporter": "python",
   "pygments_lexer": "ipython3",
   "version": "3.8.13"
  }
 },
 "nbformat": 4,
 "nbformat_minor": 5
}
