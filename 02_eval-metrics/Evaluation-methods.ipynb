{
 "cells": [
  {
   "cell_type": "markdown",
   "id": "1ee22729-d6b2-456f-92d8-e5e87b8d08b7",
   "metadata": {},
   "source": [
    "# Train-test split\n",
    "\n",
    "in this tutorial we will explore how to split a dataset into train and test from scratch via python"
   ]
  },
  {
   "cell_type": "code",
   "execution_count": 1,
   "id": "50ea80de-049a-4b60-a94d-fbc47f672b05",
   "metadata": {},
   "outputs": [],
   "source": [
    "def train_test_split(dataset, split):\n",
    "    train = list()\n",
    "    train_size = split * len(dataset)\n",
    "    dataset_copy = list(dataset)\n",
    "    \n",
    "    while len(train) < train_size:\n",
    "        index = randrange(len(dataset_copy))\n",
    "        train.append(dataset_copy.pop(index))\n",
    "    \n",
    "    return train, dataset_copy"
   ]
  },
  {
   "cell_type": "markdown",
   "id": "7731c102-56ca-4d1f-8ec2-28ec54b26cf4",
   "metadata": {},
   "source": [
    "## Example of how this could be used on a dataset\n"
   ]
  },
  {
   "cell_type": "code",
   "execution_count": 3,
   "id": "dfc66f30-ac6d-44d6-861d-31c93d5374e4",
   "metadata": {},
   "outputs": [],
   "source": [
    "from random import seed\n",
    "from random import randrange"
   ]
  },
  {
   "cell_type": "code",
   "execution_count": 4,
   "id": "5a95c9b3-a827-4d63-981f-a8a30bbbf966",
   "metadata": {},
   "outputs": [
    {
     "name": "stdout",
     "output_type": "stream",
     "text": [
      "Train dataset is:  [[3], [2], [7], [1], [8], [9]]\n",
      "Test dataset is:  [[4], [5], [6], [10]]\n"
     ]
    }
   ],
   "source": [
    "seed(1)\n",
    "dataset = [[1], [2], [3], [4], [5], [6], [7], [8], [9], [10]]\n",
    "train, test = train_test_split(dataset, 0.6)\n",
    "print(\"Train dataset is: \", train)\n",
    "print(\"Test dataset is: \", test)"
   ]
  },
  {
   "cell_type": "markdown",
   "id": "efd10568-c63e-493b-911b-3a0175f41a27",
   "metadata": {},
   "source": [
    "# K-fold cross validation split\n",
    "\n",
    "1. Divide the dataset into k subsets or folds of roughly equal size.\n",
    "2. For each fold, train the model on the remaining k-1 folds and evaluate its performance on the current fold.\n",
    "3. Calculate the performance metric for each fold, such as accuracy, precision, recall, or F1 score.\n",
    "4. Average the performance metric across all folds to obtain an estimate of the model's generalization performance"
   ]
  },
  {
   "cell_type": "code",
   "execution_count": 6,
   "id": "79e1a4d1-acd5-4ed2-85ee-42e7d61d0dd4",
   "metadata": {},
   "outputs": [],
   "source": [
    "def cross_validation_split(dataset, folds):\n",
    "    dataset_split = list()\n",
    "    dataset_copy = list(dataset)\n",
    "    fold_size = int(len(dataset) / folds)\n",
    "    for i in range(folds):\n",
    "        fold = list()\n",
    "        while len(fold) < fold_size:\n",
    "            index = randrange(len(dataset_copy))\n",
    "            fold.append(dataset_copy.pop(index))\n",
    "        dataset_split.append(fold)\n",
    "    \n",
    "    return dataset_split\n",
    "    "
   ]
  },
  {
   "cell_type": "markdown",
   "id": "e2736dc9-a9b9-4952-9ddf-6e31e9e2f895",
   "metadata": {},
   "source": [
    "## Example of this on a small dataset"
   ]
  },
  {
   "cell_type": "code",
   "execution_count": 10,
   "id": "79ce3bc8-159a-44fd-b174-5ce9d4480208",
   "metadata": {},
   "outputs": [
    {
     "name": "stdout",
     "output_type": "stream",
     "text": [
      "[[[3], [2], [7]], [[1], [8], [9]], [[10], [6], [5]]]\n"
     ]
    }
   ],
   "source": [
    "seed(1)\n",
    "dataset = [[1], [2], [3], [4], [5], [6], [7], [8], [9], [10]]\n",
    "folds = cross_validation_split(dataset, 3)\n",
    "print(folds)"
   ]
  },
  {
   "cell_type": "markdown",
   "id": "759f1821-6b9b-4cb6-b6e0-39991885dd9b",
   "metadata": {},
   "source": [
    "# Downsides of using K-fold cross validation\n",
    "\n",
    "1. time consumin to run\n",
    "2. requires *k* different models to be trained and evaluated\n",
    "3. If large dataset, the above problems are badh gaya"
   ]
  },
  {
   "cell_type": "code",
   "execution_count": null,
   "id": "09c69612-23f4-4881-983b-bac9409e89b2",
   "metadata": {},
   "outputs": [],
   "source": []
  }
 ],
 "metadata": {
  "kernelspec": {
   "display_name": "Python 3 (ipykernel)",
   "language": "python",
   "name": "python3"
  },
  "language_info": {
   "codemirror_mode": {
    "name": "ipython",
    "version": 3
   },
   "file_extension": ".py",
   "mimetype": "text/x-python",
   "name": "python",
   "nbconvert_exporter": "python",
   "pygments_lexer": "ipython3",
   "version": "3.8.13"
  }
 },
 "nbformat": 4,
 "nbformat_minor": 5
}
