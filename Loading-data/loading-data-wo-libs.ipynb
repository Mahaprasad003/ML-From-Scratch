{
 "cells": [
  {
   "cell_type": "code",
   "execution_count": 1,
   "id": "91415c84",
   "metadata": {},
   "outputs": [],
   "source": [
    "from csv import reader"
   ]
  },
  {
   "cell_type": "code",
   "execution_count": 2,
   "id": "34bf1f53",
   "metadata": {},
   "outputs": [],
   "source": [
    "def load_csv(filename):\n",
    "    file = open(filename, \"r\")\n",
    "    lines = reader(file)\n",
    "    dataset = list(lines)\n",
    "    return dataset"
   ]
  },
  {
   "cell_type": "code",
   "execution_count": 7,
   "id": "4c59a354",
   "metadata": {},
   "outputs": [
    {
     "name": "stdout",
     "output_type": "stream",
     "text": [
      "Dataset called diabetes.csv loaded with 769 rows and 9 columns\n",
      "Dataset loaded with 769 rows and 9 columns\n"
     ]
    }
   ],
   "source": [
    "filename = 'diabetes.csv'\n",
    "diabetes = load_csv(filename)\n",
    "print(\"Dataset called {0} loaded with {1} rows and {2} columns\".format(filename, len(diabetes), len(diabetes[0])))\n",
    "print(f\"Dataset loaded with {len(diabetes)} rows and {len(diabetes[0])} columns\")"
   ]
  },
  {
   "cell_type": "markdown",
   "id": "92418bee",
   "metadata": {},
   "source": [
    "## Loading datasets by skipping empty rows"
   ]
  },
  {
   "cell_type": "code",
   "execution_count": 9,
   "id": "589cef77",
   "metadata": {},
   "outputs": [],
   "source": [
    "def load_csv_skip(filename):\n",
    "    dataset = list()\n",
    "    with open(filename, \"r\") as file:\n",
    "        csv_reader = reader(file)\n",
    "        for row in csv_reader:\n",
    "            if not row:\n",
    "                continue\n",
    "            dataset.append(row)\n",
    "        return dataset\n",
    "        "
   ]
  },
  {
   "cell_type": "code",
   "execution_count": 10,
   "id": "b0630054",
   "metadata": {},
   "outputs": [
    {
     "name": "stdout",
     "output_type": "stream",
     "text": [
      "Dataset called diabetes.csv loaded with 769 rows and 9 columns\n"
     ]
    }
   ],
   "source": [
    "diabetes_rows_skipped = load_csv_skip(filename)\n",
    "print(\"Dataset called {0} loaded with {1} rows and {2} columns\".format(filename, len(diabetes_rows_skipped), len(diabetes_rows_skipped[0])))"
   ]
  },
  {
   "cell_type": "markdown",
   "id": "a9be8390",
   "metadata": {},
   "source": [
    "## Converting strings to floats"
   ]
  },
  {
   "cell_type": "code",
   "execution_count": 52,
   "id": "feed4011",
   "metadata": {},
   "outputs": [],
   "source": [
    "def str_to_float(dataset):\n",
    "    for i in range(1, len(dataset)):\n",
    "        for j in range(len(dataset[0])):\n",
    "            dataset[i][j] = float(dataset[i][j].strip)\n",
    "            "
   ]
  },
  {
   "cell_type": "code",
   "execution_count": 55,
   "id": "9d7b426d",
   "metadata": {},
   "outputs": [],
   "source": [
    "str_to_float(diabetes)"
   ]
  },
  {
   "cell_type": "code",
   "execution_count": null,
   "id": "299903c0",
   "metadata": {},
   "outputs": [],
   "source": []
  }
 ],
 "metadata": {
  "kernelspec": {
   "display_name": "Python 3 (ipykernel)",
   "language": "python",
   "name": "python3"
  },
  "language_info": {
   "codemirror_mode": {
    "name": "ipython",
    "version": 3
   },
   "file_extension": ".py",
   "mimetype": "text/x-python",
   "name": "python",
   "nbconvert_exporter": "python",
   "pygments_lexer": "ipython3",
   "version": "3.10.7"
  }
 },
 "nbformat": 4,
 "nbformat_minor": 5
}
