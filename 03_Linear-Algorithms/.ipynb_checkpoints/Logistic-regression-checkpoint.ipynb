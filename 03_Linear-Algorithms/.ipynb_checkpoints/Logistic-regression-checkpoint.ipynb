{
 "cells": [
  {
   "cell_type": "markdown",
   "id": "5d6e5a6e-f545-4026-8372-bfac49db1107",
   "metadata": {},
   "source": [
    "# Logistic regression\n",
    "\n",
    "Logistic regression is named for the function used at the core of the method, the logistic function.\n",
    "Logistic regression uses an equation as the representation, very much like linear regression.\n",
    "\n",
    "\n",
    "Equation is written as: \n",
    "\n",
    "yhat = 1/(1+e^z)\n",
    "where z = b0+b1*x1)\n",
    "\n",
    "yhat is a real value between 0 and 1 that needs to be rounded to an integer value and mapped to a predicted class value."
   ]
  },
  {
   "cell_type": "markdown",
   "id": "2d2807d5-8fe3-41fc-9898-ce6305edc3bb",
   "metadata": {},
   "source": [
    "# Stochastic gradient descent\n",
    "\n",
    "We use stochastic gradient descent here as well but the coefficient formula is different\n",
    "\n",
    "b = b + (learning rate) * (y - yhat) * yhat * (1 - yhat) * x"
   ]
  },
  {
   "cell_type": "markdown",
   "id": "ad43cd00-1711-42cd-b352-d9d1d0a70392",
   "metadata": {},
   "source": [
    "# Steps involved in this notebook\n",
    "\n",
    "There are 3 parts here:\n",
    "1. Making predictions\n",
    "2. Estimating coefficients\n",
    "3. Case study on [Pima Indians Diabetes](https://www.kaggle.com/datasets/uciml/pima-indians-diabetes-database)"
   ]
  },
  {
   "cell_type": "markdown",
   "id": "e9188e8f-0bb2-45da-8e77-651471809037",
   "metadata": {
    "jp-MarkdownHeadingCollapsed": true,
    "tags": []
   },
   "source": [
    "# 1. Making predictions"
   ]
  },
  {
   "cell_type": "code",
   "execution_count": 2,
   "id": "c3db0ebf-74de-495f-a843-9cc69eb69b0f",
   "metadata": {},
   "outputs": [],
   "source": [
    "from math import exp\n",
    "def predict(row, coefficients):\n",
    "    yhat = coefficients[0]\n",
    "    for i in range(len(row) - 1):\n",
    "        yhat += coefficients[i+1] * row[i]\n",
    "    return 1.0 / (1.0 + exp(-yhat))"
   ]
  },
  {
   "cell_type": "code",
   "execution_count": 4,
   "id": "b9c8cac6-ac43-455f-8e83-42bcdf7f77a8",
   "metadata": {},
   "outputs": [
    {
     "name": "stdout",
     "output_type": "stream",
     "text": [
      "Expected: 0 Predicted: 0.299  [0]\n",
      "Expected: 0 Predicted: 0.146  [0]\n",
      "Expected: 0 Predicted: 0.085  [0]\n",
      "Expected: 0 Predicted: 0.22  [0]\n",
      "Expected: 0 Predicted: 0.247  [0]\n",
      "Expected: 1 Predicted: 0.955  [1]\n",
      "Expected: 1 Predicted: 0.862  [1]\n",
      "Expected: 1 Predicted: 0.972  [1]\n",
      "Expected: 1 Predicted: 0.999  [1]\n",
      "Expected: 1 Predicted: 0.905  [1]\n"
     ]
    }
   ],
   "source": [
    "# testing the predict function\n",
    "\n",
    "dataset = [[2.7810836,2.550537003,0],\n",
    "[1.465489372,2.362125076,0],\n",
    "[3.396561688,4.400293529,0],\n",
    "[1.38807019,1.850220317,0],\n",
    "[3.06407232,3.005305973,0],\n",
    "[7.627531214,2.759262235,1],\n",
    "[5.332441248,2.088626775,1],\n",
    "[6.922596716,1.77106367,1],\n",
    "[8.675418651,-0.242068655,1],\n",
    "[7.673756466,3.508563011,1]]\n",
    "\n",
    "coef = [-0.406605464, 0.852573316, -1.104746259]\n",
    "\n",
    "for row in dataset:\n",
    "    yhat = predict(row, coef)\n",
    "    print(f\"Expected: {round(row[-1], 3)} Predicted: {round(yhat, 3)}  [{round(yhat)}]\")"
   ]
  },
  {
   "cell_type": "markdown",
   "id": "7847a740-acef-4424-8d8a-d3924abb4c71",
   "metadata": {
    "jp-MarkdownHeadingCollapsed": true,
    "tags": []
   },
   "source": [
    "# Estimating coefficients"
   ]
  },
  {
   "cell_type": "markdown",
   "id": "9cbc7345-1500-42c8-86c1-d44060744c5b",
   "metadata": {},
   "source": [
    "using stochastic gradient descent to figure out the coefficients"
   ]
  },
  {
   "cell_type": "code",
   "execution_count": 7,
   "id": "16871f2a-9b4d-4035-a8eb-089a31786059",
   "metadata": {},
   "outputs": [],
   "source": [
    "def coefficients_sgd(train, l_rate, n_epoch):\n",
    "    coef = [0.0 for i in range(len(train[0]))]\n",
    "    for epoch in range(n_epoch):\n",
    "        sum_error = 0\n",
    "        for row in train:\n",
    "            yhat = predict(row, coef)\n",
    "            error = row[-1] - yhat\n",
    "            sum_error += (error ** 2)\n",
    "        \n",
    "            coef[0] = coef[0] + l_rate * error * yhat * (1.0 - yhat)\n",
    "            \n",
    "            for i in range(len(row) - 1):\n",
    "                coef[i+1] = coef[i+1] + l_rate * error * yhat * (1.0 - yhat) * row[i]\n",
    "        print(f\"Epoch: {epoch}, lrate: {l_rate}, error: {round(sum_error, 3)}\")\n",
    "    return coef"
   ]
  },
  {
   "cell_type": "markdown",
   "id": "09cb6cd9-0587-43d7-bb58-aad85c313a08",
   "metadata": {},
   "source": [
    "Example on dummy data"
   ]
  },
  {
   "cell_type": "code",
   "execution_count": 10,
   "id": "3961905b-42cf-4db5-b827-9062f9ff0c9a",
   "metadata": {},
   "outputs": [
    {
     "name": "stdout",
     "output_type": "stream",
     "text": [
      "Epoch: 0, lrate: 0.3, error: 2.217\n",
      "Epoch: 1, lrate: 0.3, error: 1.613\n",
      "Epoch: 2, lrate: 0.3, error: 1.113\n",
      "Epoch: 3, lrate: 0.3, error: 0.827\n",
      "Epoch: 4, lrate: 0.3, error: 0.623\n",
      "Epoch: 5, lrate: 0.3, error: 0.494\n",
      "Epoch: 6, lrate: 0.3, error: 0.412\n",
      "Epoch: 7, lrate: 0.3, error: 0.354\n",
      "Epoch: 8, lrate: 0.3, error: 0.31\n",
      "Epoch: 9, lrate: 0.3, error: 0.276\n",
      "Epoch: 10, lrate: 0.3, error: 0.248\n",
      "Epoch: 11, lrate: 0.3, error: 0.224\n",
      "Epoch: 12, lrate: 0.3, error: 0.205\n",
      "Epoch: 13, lrate: 0.3, error: 0.189\n",
      "Epoch: 14, lrate: 0.3, error: 0.174\n",
      "Epoch: 15, lrate: 0.3, error: 0.162\n",
      "Epoch: 16, lrate: 0.3, error: 0.151\n",
      "Epoch: 17, lrate: 0.3, error: 0.142\n",
      "Epoch: 18, lrate: 0.3, error: 0.134\n",
      "Epoch: 19, lrate: 0.3, error: 0.126\n",
      "Epoch: 20, lrate: 0.3, error: 0.119\n",
      "Epoch: 21, lrate: 0.3, error: 0.113\n",
      "Epoch: 22, lrate: 0.3, error: 0.108\n",
      "Epoch: 23, lrate: 0.3, error: 0.103\n",
      "Epoch: 24, lrate: 0.3, error: 0.098\n",
      "Epoch: 25, lrate: 0.3, error: 0.094\n",
      "Epoch: 26, lrate: 0.3, error: 0.09\n",
      "Epoch: 27, lrate: 0.3, error: 0.087\n",
      "Epoch: 28, lrate: 0.3, error: 0.084\n",
      "Epoch: 29, lrate: 0.3, error: 0.08\n",
      "Epoch: 30, lrate: 0.3, error: 0.078\n",
      "Epoch: 31, lrate: 0.3, error: 0.075\n",
      "Epoch: 32, lrate: 0.3, error: 0.073\n",
      "Epoch: 33, lrate: 0.3, error: 0.07\n",
      "Epoch: 34, lrate: 0.3, error: 0.068\n",
      "Epoch: 35, lrate: 0.3, error: 0.066\n",
      "Epoch: 36, lrate: 0.3, error: 0.064\n",
      "Epoch: 37, lrate: 0.3, error: 0.062\n",
      "Epoch: 38, lrate: 0.3, error: 0.06\n",
      "Epoch: 39, lrate: 0.3, error: 0.059\n",
      "Epoch: 40, lrate: 0.3, error: 0.057\n",
      "Epoch: 41, lrate: 0.3, error: 0.056\n",
      "Epoch: 42, lrate: 0.3, error: 0.054\n",
      "Epoch: 43, lrate: 0.3, error: 0.053\n",
      "Epoch: 44, lrate: 0.3, error: 0.052\n",
      "Epoch: 45, lrate: 0.3, error: 0.051\n",
      "Epoch: 46, lrate: 0.3, error: 0.05\n",
      "Epoch: 47, lrate: 0.3, error: 0.048\n",
      "Epoch: 48, lrate: 0.3, error: 0.047\n",
      "Epoch: 49, lrate: 0.3, error: 0.046\n",
      "[-0.7282458823836234, 1.3156310025113396, -1.8978207115152121]\n"
     ]
    }
   ],
   "source": [
    "dataset = [[2.7810836,2.550537003,0],\n",
    "[1.465489372,2.362125076,0],\n",
    "[3.396561688,4.400293529,0],\n",
    "[1.38807019,1.850220317,0],\n",
    "[3.06407232,3.005305973,0],\n",
    "[7.627531214,2.759262235,1],\n",
    "[5.332441248,2.088626775,1],\n",
    "[6.922596716,1.77106367,1],\n",
    "[8.675418651,-0.242068655,1],\n",
    "[7.673756466,3.508563011,1]]\n",
    "l_rate = 0.3\n",
    "n_epoch = 50\n",
    "coef = coefficients_sgd(dataset, l_rate, n_epoch)\n",
    "print(coef)"
   ]
  },
  {
   "cell_type": "markdown",
   "id": "f25b1057-b9d5-45fc-8200-290cc460343c",
   "metadata": {},
   "source": [
    "# Case study\n"
   ]
  },
  {
   "cell_type": "code",
   "execution_count": 14,
   "id": "852f7831-9f64-4974-bcc8-7423cd8aaeb4",
   "metadata": {},
   "outputs": [
    {
     "name": "stdout",
     "output_type": "stream",
     "text": [
      "[1.1999999999999995, 1.9999999999999996, 3.5999999999999996, 2.8, 4.3999999999999995]\n",
      "RMSE for the dummy dataset is:  0.693\n",
      "RMSE is:  33.62982326492123\n"
     ]
    }
   ],
   "source": []
  },
  {
   "cell_type": "code",
   "execution_count": null,
   "id": "826f557a-e1b4-4998-b656-c8ee066871e3",
   "metadata": {},
   "outputs": [],
   "source": []
  }
 ],
 "metadata": {
  "kernelspec": {
   "display_name": "Python 3 (ipykernel)",
   "language": "python",
   "name": "python3"
  },
  "language_info": {
   "codemirror_mode": {
    "name": "ipython",
    "version": 3
   },
   "file_extension": ".py",
   "mimetype": "text/x-python",
   "name": "python",
   "nbconvert_exporter": "python",
   "pygments_lexer": "ipython3",
   "version": "3.8.13"
  }
 },
 "nbformat": 4,
 "nbformat_minor": 5
}
