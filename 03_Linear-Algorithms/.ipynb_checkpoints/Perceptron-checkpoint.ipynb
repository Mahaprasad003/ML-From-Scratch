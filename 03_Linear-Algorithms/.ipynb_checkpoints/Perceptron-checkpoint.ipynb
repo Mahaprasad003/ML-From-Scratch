{
 "cells": [
  {
   "cell_type": "markdown",
   "id": "7025b29c-9857-47ce-9496-435f42a872e8",
   "metadata": {},
   "source": [
    "# Perceptron\n",
    "\n",
    "The Perceptron algorithm is the simplest type of artificial neural network. It is a model of a\n",
    "single neuron that can be used for two-class classification problems and provides the foundation\n",
    "for later developing much larger networks"
   ]
  },
  {
   "cell_type": "markdown",
   "id": "125f99e1-cdc0-4fb9-aa0b-5b7bca8372c2",
   "metadata": {
    "tags": []
   },
   "source": [
    "A neuron accepts input signals via its dendrites, which pass the electrical signal down to the cell body.\n",
    "\n",
    "In a similar way, the Perceptron receives input signals from examples of training data that we weight and combined in a linear equation called the activation.\n",
    "\n",
    "## Formula\n",
    "activation = sum(weight_i * x_i) + bias\n",
    "\n",
    "The activation is then transformed into an output value or prediction using a transfer function, such as the step transfer function.\n",
    "\n",
    "prediction = 1.0 if activation >= 0.0 else 0.0\n"
   ]
  },
  {
   "cell_type": "markdown",
   "id": "05e6643a-3dc4-4e4a-801a-b60bedde8f00",
   "metadata": {},
   "source": [
    "The weights are then calculated via gradient descent.\n",
    "\n",
    "w = w + learning_rate * (expected - predicted) * x"
   ]
  },
  {
   "cell_type": "markdown",
   "id": "28aacc16-c196-4091-a896-f110d69c6f83",
   "metadata": {},
   "source": [
    "# Tutorial\n",
    "\n",
    "As usual, this will be divided into 3 parts:\n",
    "1. predictions\n",
    "2. Training network weights\n",
    "3. Dataset case study on [Sonar dataset](https://datahub.io/machine-learning/sonar%23resource-sonar#data)"
   ]
  },
  {
   "cell_type": "code",
   "execution_count": 1,
   "id": "48b3747f-4898-444e-a7e0-89b3536a1d1a",
   "metadata": {},
   "outputs": [],
   "source": [
    "# prediction function\n",
    "\n",
    "def prediction(row, weights):\n",
    "    activation = weights[0]\n",
    "    \n",
    "    for i in range(len(row) - 1):\n",
    "        activation += weights[i+1] * row[i]\n",
    "        \n",
    "    return 1.00 if activation >= 0.0 else 0.0\n",
    "    "
   ]
  },
  {
   "cell_type": "code",
   "execution_count": null,
   "id": "2baeb755-e3b9-4c62-8348-9e63fd129d30",
   "metadata": {},
   "outputs": [],
   "source": []
  }
 ],
 "metadata": {
  "kernelspec": {
   "display_name": "Python 3 (ipykernel)",
   "language": "python",
   "name": "python3"
  },
  "language_info": {
   "codemirror_mode": {
    "name": "ipython",
    "version": 3
   },
   "file_extension": ".py",
   "mimetype": "text/x-python",
   "name": "python",
   "nbconvert_exporter": "python",
   "pygments_lexer": "ipython3",
   "version": "3.8.13"
  }
 },
 "nbformat": 4,
 "nbformat_minor": 5
}
