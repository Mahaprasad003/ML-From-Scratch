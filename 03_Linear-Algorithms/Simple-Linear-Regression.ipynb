{
 "cells": [
  {
   "cell_type": "markdown",
   "id": "d8118a17",
   "metadata": {},
   "source": [
    "# Simple Linear Regression\n",
    "\n",
    "## There are majorly 5 steps involved when implementing this from scratch.\n",
    "\n",
    "1. Calculate Mean and Variance\n",
    "2. Estimate Covariance\n",
    "3. Estimate coefficients\n",
    "4. Make predictions \n",
    "5. Calculate RMSE\n",
    "\n",
    "There is an interesting observation here. In the tutorial that am following, the author uses wrong formula for variance and covariance (does not divide by N) but the answer is same as my method.\n",
    "\n",
    "The reason?\n",
    "It just cancels out each other when calculating the coeeffecients.\n",
    "Since the value of len(x) is on opposite sides while calculating the coeffecients, it cancels out each other and we ultimately get the same answer"
   ]
  },
  {
   "cell_type": "markdown",
   "id": "afbb22d8",
   "metadata": {},
   "source": [
    "## 1. Functions for Mean and Variance"
   ]
  },
  {
   "cell_type": "code",
   "execution_count": 13,
   "id": "cff330a4",
   "metadata": {},
   "outputs": [],
   "source": [
    "from math import sqrt\n",
    "\n",
    "def mean_dataset(values):\n",
    "    return sum(values) / float(len(values))\n",
    "\n",
    "def variance_dataset(values, mean):\n",
    "    return sum([(x-mean)**2 for x in values])/len(values)"
   ]
  },
  {
   "cell_type": "markdown",
   "id": "6f1ba7c3",
   "metadata": {},
   "source": [
    "## 2. Estimating covariance"
   ]
  },
  {
   "cell_type": "code",
   "execution_count": 20,
   "id": "173fc40c",
   "metadata": {},
   "outputs": [],
   "source": [
    "def covariance_dataset(x, y):\n",
    "    mean_x = mean_dataset(x)\n",
    "    mean_y = mean_dataset(y)\n",
    "    \n",
    "    covar = 0.0\n",
    "    for i in range(len(x)):\n",
    "        covar += (x[i] - mean_x) * (y[i] - mean_y)\n",
    "    return covar/len(x)"
   ]
  },
  {
   "cell_type": "markdown",
   "id": "ef213f44",
   "metadata": {},
   "source": [
    "## 3. Estimating coefficients"
   ]
  },
  {
   "cell_type": "code",
   "execution_count": 21,
   "id": "cb331556",
   "metadata": {},
   "outputs": [],
   "source": [
    "def coefficients(dataset):\n",
    "    x = [row[0] for row in dataset]\n",
    "    y = [row[1] for row in dataset]\n",
    "    \n",
    "    x_mean, y_mean = mean_dataset(x), mean_dataset(y)\n",
    "    \n",
    "    b1 = covariance_dataset(x, y)/ variance_dataset(x, x_mean)\n",
    "    b0 = y_mean - b1 * x_mean\n",
    "    \n",
    "    return[b0, b1]"
   ]
  },
  {
   "cell_type": "markdown",
   "id": "73c13848",
   "metadata": {},
   "source": [
    "## 4. Make predictions"
   ]
  },
  {
   "cell_type": "code",
   "execution_count": 22,
   "id": "34e2a334",
   "metadata": {},
   "outputs": [],
   "source": [
    "def simple_linear_regression(train, test):\n",
    "    predictions = list()\n",
    "    b0, b1 = coefficients(train)\n",
    "    \n",
    "    for row in test:\n",
    "        yhat = b0 + b1 * row[0]\n",
    "        predictions.append(yhat)\n",
    "    \n",
    "    return predictions "
   ]
  },
  {
   "cell_type": "markdown",
   "id": "463790d9-d097-4a7e-9be9-ebc286ed2cb0",
   "metadata": {},
   "source": [
    "## Calculating RMSE\n"
   ]
  },
  {
   "cell_type": "code",
   "execution_count": 23,
   "id": "f8d985bf-882d-4ffe-97c0-b8c9a29aa2d4",
   "metadata": {},
   "outputs": [],
   "source": [
    "def rmse_metric(actual, predicted):\n",
    "    sum_error = 0.0\n",
    "    \n",
    "    for i in range(len(actual)):\n",
    "        prediction_error = (actual[i] - predicted[i])\n",
    "        sum_error += (prediction_error ** 2)\n",
    "    mean_error = sum_error / float(len(actual))\n",
    "    \n",
    "    return sqrt(mean_error)\n",
    "        "
   ]
  },
  {
   "cell_type": "markdown",
   "id": "4fc262f0-7f7b-409b-a90c-5c5551be4c47",
   "metadata": {},
   "source": [
    "## Evaluating algorithm\n",
    "\n",
    "Not entirely sure but I think this function remains constant across regression problems?"
   ]
  },
  {
   "cell_type": "code",
   "execution_count": 24,
   "id": "256976f5-0116-40fd-88e4-a391d41d82c4",
   "metadata": {},
   "outputs": [],
   "source": [
    "def evaluation_algorithm(dataset, algorithm):\n",
    "    test_set = list()\n",
    "    for row in dataset:\n",
    "        row_copy = list(row)\n",
    "        row_copy[-1] = None\n",
    "        test_set.append(row_copy)\n",
    "        \n",
    "    predicted = algorithm(dataset, test_set)\n",
    "    print(predicted)\n",
    "    actual = [row[-1] for row in dataset]\n",
    "    rmse = rmse_metric(actual, predicted)\n",
    "    return rmse\n",
    "    "
   ]
  },
  {
   "cell_type": "markdown",
   "id": "f3f9b868-c252-427b-b71a-16dc991a211c",
   "metadata": {},
   "source": [
    "# Testing with dummy data"
   ]
  },
  {
   "cell_type": "code",
   "execution_count": 27,
   "id": "b02c21b7-665f-464d-a39b-a2ba2368129b",
   "metadata": {},
   "outputs": [
    {
     "name": "stdout",
     "output_type": "stream",
     "text": [
      "[1.1999999999999995, 1.9999999999999996, 3.5999999999999996, 2.8, 4.3999999999999995]\n",
      "RMSE for the dummy dataset is:  0.693\n"
     ]
    }
   ],
   "source": [
    "dataset = [[1, 1], [2, 3], [4, 3], [3, 2], [5, 5]]\n",
    "rmse = evaluation_algorithm(dataset, simple_linear_regression)\n",
    "print(\"RMSE for the dummy dataset is: \", round(rmse, 3))"
   ]
  },
  {
   "cell_type": "markdown",
   "id": "63054558-adaf-469d-8634-e0e068b26453",
   "metadata": {},
   "source": [
    "# Testing with actual dataset\n",
    "\n",
    "## dataset used is: [Swedish Auto Insurance Case study](https://www.kaggle.com/datasets/redwankarimsony/auto-insurance-in-sweden)"
   ]
  },
  {
   "cell_type": "code",
   "execution_count": 35,
   "id": "0a3e50d9-d6d7-40ac-a0f2-b7ac3e4027b2",
   "metadata": {},
   "outputs": [],
   "source": [
    "from random import seed\n",
    "from random import randrange\n",
    "from csv import reader\n",
    "from math import sqrt\n",
    "\n",
    "# Load a CSV file\n",
    "def load_csv(filename):\n",
    "    dataset = list()\n",
    "    with open(filename, \"r\") as file:\n",
    "        csv_reader = reader(file)\n",
    "        for row in csv_reader:\n",
    "            if not row:\n",
    "                continue\n",
    "            dataset.append(row)\n",
    "        return dataset\n",
    "\n",
    "def str_to_float(dataset):\n",
    "    for i in range(1, len(dataset)):\n",
    "        for j in range(len(dataset[0])):\n",
    "            dataset[i][j] = float(dataset[i][j])\n",
    "        \n",
    "# Split a dataset into a train and test set\n",
    "def train_test_split(dataset, split):\n",
    "    train = list()\n",
    "    train_size = split * len(dataset)\n",
    "    dataset_copy = list(dataset)\n",
    "    while len(train) < train_size:\n",
    "        index = randrange(len(dataset_copy))\n",
    "        train.append(dataset_copy.pop(index))\n",
    "    return train, dataset_copy"
   ]
  },
  {
   "cell_type": "code",
   "execution_count": 51,
   "id": "64f94174-e8f2-4af3-9546-f0f63db972ac",
   "metadata": {},
   "outputs": [
    {
     "name": "stdout",
     "output_type": "stream",
     "text": [
      "RMSE is:  33.62982326492123\n"
     ]
    }
   ],
   "source": [
    "seed(1)\n",
    "filename = 'swedish_insurance.csv'\n",
    "dataset_insurance = load_csv(filename)\n",
    "str_to_float(dataset_insurance)\n",
    "\n",
    "#popping the first row since it's irrelevant\n",
    "dataset_insurance.pop(0)\n",
    "\n",
    "#evaluate algorithm using train/test split\n",
    "def evaluate_algorithm(dataset, algorithm, split, *args):\n",
    "    train, test = train_test_split(dataset, split)\n",
    "    test_set = list()\n",
    "    for row in test:\n",
    "        row_copy = list(row)\n",
    "        row_copy[-1] = None\n",
    "        test_set.append(row_copy)\n",
    "    predicted = algorithm(train, test_set, *args)\n",
    "    actual = [row[-1] for row in test]\n",
    "    rmse = rmse_metric(actual, predicted)\n",
    "    return rmse\n",
    "\n",
    "split = 0.6\n",
    "rmse = evaluate_algorithm(dataset_insurance, simple_linear_regression, split)\n",
    "print(\"RMSE is: \", rmse)\n"
   ]
  }
 ],
 "metadata": {
  "kernelspec": {
   "display_name": "Python 3 (ipykernel)",
   "language": "python",
   "name": "python3"
  },
  "language_info": {
   "codemirror_mode": {
    "name": "ipython",
    "version": 3
   },
   "file_extension": ".py",
   "mimetype": "text/x-python",
   "name": "python",
   "nbconvert_exporter": "python",
   "pygments_lexer": "ipython3",
   "version": "3.8.13"
  }
 },
 "nbformat": 4,
 "nbformat_minor": 5
}
